{
 "cells": [
  {
   "cell_type": "markdown",
   "metadata": {},
   "source": [
    "Day 1\n",
    "====\n",
    "\n",
    "[Inverse Captcha](http://adventofcode.com/2017/day/1)"
   ]
  },
  {
   "cell_type": "markdown",
   "metadata": {},
   "source": [
    "Part 1\n",
    "-----"
   ]
  },
  {
   "cell_type": "code",
   "execution_count": 18,
   "metadata": {},
   "outputs": [],
   "source": [
    "reset -fs"
   ]
  },
  {
   "cell_type": "code",
   "execution_count": 19,
   "metadata": {},
   "outputs": [],
   "source": [
    "from utilities import load_data"
   ]
  },
  {
   "cell_type": "code",
   "execution_count": 20,
   "metadata": {},
   "outputs": [],
   "source": [
    "def map2tuple(func, *args)-> tuple: \n",
    "    \"Apply a map. Return the results as a tuple.\"\n",
    "    return tuple(map(func, *args))\n",
    "\n",
    "def captacha_sum_next(captcha):\n",
    "    \"Sum all digits that equal the next digit. It is circular, so the digit after the last digit is the first digit in the list.\"\n",
    "    captcha = map2tuple(int, captcha)\n",
    "    return sum(n for i, n in enumerate(captcha) # Sum, if equivalence\n",
    "                  if captcha[i] == captcha[i-1])  "
   ]
  },
  {
   "cell_type": "code",
   "execution_count": 21,
   "metadata": {},
   "outputs": [],
   "source": [
    "assert captacha_sum_next(captcha='1122')     == 3\n",
    "assert captacha_sum_next(captcha='1111')     == 4\n",
    "assert captacha_sum_next(captcha='1234')     == 0\n",
    "assert captacha_sum_next(captcha='91212129') == 9"
   ]
  },
  {
   "cell_type": "code",
   "execution_count": 22,
   "metadata": {},
   "outputs": [],
   "source": [
    "data = load_data(day=1)\n",
    "\n",
    "assert captacha_sum_next(captcha=data) == 1341"
   ]
  },
  {
   "cell_type": "markdown",
   "metadata": {},
   "source": [
    "Part 2\n",
    "-----\n"
   ]
  },
  {
   "cell_type": "code",
   "execution_count": 6,
   "metadata": {},
   "outputs": [],
   "source": [
    "def captacha_sum_halfway(captcha):\n",
    "    \"\"\"Sum of all digits that match the next digit in the list. \n",
    "    \n",
    "    The list is circular, so the digit after the last digit is the first digit in the list.\n",
    "    \"\"\"\n",
    "    halfway = len(str(captcha))//2\n",
    "    captcha = str(captcha)+str(captcha) # Double the size to fake circular \n",
    "\n",
    "    return sum(int(n) for i, n in enumerate(captcha[:halfway*2]) \n",
    "                  if captcha[i] == captcha[i+halfway])  "
   ]
  },
  {
   "cell_type": "code",
   "execution_count": 7,
   "metadata": {},
   "outputs": [],
   "source": [
    "assert captacha_sum_halfway(captcha=1212)     == 6\n",
    "assert captacha_sum_halfway(captcha=123425)   == 4\n",
    "assert captacha_sum_halfway(captcha=123123)   == 12\n",
    "assert captacha_sum_halfway(captcha=12131415) == 4"
   ]
  },
  {
   "cell_type": "code",
   "execution_count": 8,
   "metadata": {},
   "outputs": [],
   "source": [
    "assert captacha_sum_halfway(captcha=data) == 1348"
   ]
  },
  {
   "cell_type": "markdown",
   "metadata": {},
   "source": [
    "<br>\n",
    "<br> \n",
    "<br>\n",
    "\n",
    "----"
   ]
  }
 ],
 "metadata": {
  "kernelspec": {
   "display_name": "Python 3",
   "language": "python",
   "name": "python3"
  },
  "language_info": {
   "codemirror_mode": {
    "name": "ipython",
    "version": 3
   },
   "file_extension": ".py",
   "mimetype": "text/x-python",
   "name": "python",
   "nbconvert_exporter": "python",
   "pygments_lexer": "ipython3",
   "version": "3.6.0"
  }
 },
 "nbformat": 4,
 "nbformat_minor": 2
}
