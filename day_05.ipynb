{
 "cells": [
  {
   "cell_type": "markdown",
   "metadata": {},
   "source": [
    "Day 5\n",
    "====\n",
    "\n",
    "[A Maze of Twisty Trampolines, All Alike](http://adventofcode.com/2017/day/5)"
   ]
  },
  {
   "cell_type": "markdown",
   "metadata": {},
   "source": [
    "Part 1\n",
    "----"
   ]
  },
  {
   "cell_type": "code",
   "execution_count": 1,
   "metadata": {},
   "outputs": [],
   "source": [
    "reset -fs"
   ]
  },
  {
   "cell_type": "code",
   "execution_count": 2,
   "metadata": {},
   "outputs": [],
   "source": [
    "from utilities import load_data"
   ]
  },
  {
   "cell_type": "code",
   "execution_count": 3,
   "metadata": {},
   "outputs": [
    {
     "name": "stdout",
     "output_type": "stream",
     "text": [
      "[1, 3, 0, 1, -3] 0\n",
      "[2, 3, 0, 1, -3] 1\n",
      "[2, 4, 0, 1, -3] 3\n",
      "[2, 4, 0, 2, -3] 1\n",
      "5\n"
     ]
    }
   ],
   "source": [
    "jumps = [0, 3, 0, 1, -3]\n",
    "\n",
    "index_current = 0\n",
    "steps = 1\n",
    "\n",
    "while (index_current>=0) and (jumps[index_current]+index_current < len(jumps)):\n",
    "    index_next = jumps[index_current] # Update where to jump to\n",
    "    jumps[index_current] += 1         # Increment current index\n",
    "    index_current = index_next        # Setup index for next round\n",
    "    steps += 1\n",
    "    print(jumps, index_current)\n",
    "    \n",
    "print(steps)"
   ]
  },
  {
   "cell_type": "code",
   "execution_count": 5,
   "metadata": {},
   "outputs": [],
   "source": [
    "jumps = load_data(day=5, split=True)\n",
    "jumps = list(map(int, jumps))"
   ]
  },
  {
   "cell_type": "code",
   "execution_count": 6,
   "metadata": {},
   "outputs": [
    {
     "name": "stdout",
     "output_type": "stream",
     "text": [
      "3\n"
     ]
    }
   ],
   "source": [
    "\n",
    "index_current = 0\n",
    "steps = 1\n",
    "\n",
    "while (index_current>=0) and (jumps[index_current]+index_current < len(jumps)):\n",
    "    index_next = jumps[index_current] # Update where to jump to\n",
    "    jumps[index_current] += 1         # Increment current index\n",
    "    index_current = index_next        # Setup index for next round\n",
    "    steps += 1\n",
    "#     print(jumps, index_current)\n",
    "    \n",
    "print(steps)"
   ]
  },
  {
   "cell_type": "markdown",
   "metadata": {},
   "source": [
    "Part 2\n",
    "----"
   ]
  },
  {
   "cell_type": "code",
   "execution_count": 29,
   "metadata": {},
   "outputs": [],
   "source": []
  },
  {
   "cell_type": "code",
   "execution_count": 31,
   "metadata": {},
   "outputs": [],
   "source": []
  },
  {
   "cell_type": "code",
   "execution_count": 34,
   "metadata": {},
   "outputs": [],
   "source": []
  },
  {
   "cell_type": "code",
   "execution_count": 36,
   "metadata": {},
   "outputs": [],
   "source": []
  },
  {
   "cell_type": "markdown",
   "metadata": {},
   "source": [
    "<br>\n",
    "<br> \n",
    "<br>\n",
    "\n",
    "----"
   ]
  }
 ],
 "metadata": {
  "kernelspec": {
   "display_name": "Python 3",
   "language": "python",
   "name": "python3"
  },
  "language_info": {
   "codemirror_mode": {
    "name": "ipython",
    "version": 3
   },
   "file_extension": ".py",
   "mimetype": "text/x-python",
   "name": "python",
   "nbconvert_exporter": "python",
   "pygments_lexer": "ipython3",
   "version": "3.6.3"
  }
 },
 "nbformat": 4,
 "nbformat_minor": 2
}
