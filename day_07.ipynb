{
 "cells": [
  {
   "cell_type": "markdown",
   "metadata": {},
   "source": [
    "Day 7\n",
    "====\n",
    "\n",
    "[Recursive Circus](http://adventofcode.com/2017/day/7)"
   ]
  },
  {
   "cell_type": "markdown",
   "metadata": {},
   "source": [
    "Part I\n",
    "-----"
   ]
  },
  {
   "cell_type": "code",
   "execution_count": 63,
   "metadata": {},
   "outputs": [],
   "source": [
    "reset -fs"
   ]
  },
  {
   "cell_type": "code",
   "execution_count": 64,
   "metadata": {},
   "outputs": [],
   "source": [
    "from utilities import load_data"
   ]
  },
  {
   "cell_type": "code",
   "execution_count": 65,
   "metadata": {},
   "outputs": [],
   "source": [
    "data_sample = ['pbga (66)',\n",
    "'xhth (57)',\n",
    "'ebii (61)',\n",
    "'havc (66)',\n",
    "'ktlj (57)',\n",
    "'fwft (72) -> ktlj, cntj, xhth',\n",
    "'qoyq (66)',\n",
    "'padx (45) -> pbga, havc, qoyq',\n",
    "'tknk (41) -> ugml, padx, fwft',\n",
    "'jptl (61)',\n",
    "'ugml (68) -> gyxo, ebii, jptl',\n",
    "'gyxo (61)',\n",
    "'cntj (57)']"
   ]
  },
  {
   "cell_type": "code",
   "execution_count": 67,
   "metadata": {},
   "outputs": [],
   "source": [
    "def towers2dict(tower) -> dict:\n",
    "    \"Given the funky tower structure, return the dependency tree\"\n",
    "    discs = dict()\n",
    "    for line in tower:\n",
    "        if line.find('->') != -1: # If a disc does not hold up anything, ignore\n",
    "            key = line.replace(',', ' ').split()[0]\n",
    "            values = line.replace(',', ' ').split()[3:]\n",
    "            discs[key] = set(values)\n",
    "    return discs\n",
    "\n",
    "def find_root(tree_dict: dict):\n",
    "    \"Find the root within the dictionary\"\n",
    "    for key in tree_dict.keys():\n",
    "        if not any(key in values_current for values_current in tree_dict.values()): # If key is not in the values of another key, it is the root\n",
    "            break\n",
    "    return key\n",
    "\n",
    "assert find_root(towers2dict(tower=data_sample)) == 'tknk'"
   ]
  },
  {
   "cell_type": "code",
   "execution_count": 68,
   "metadata": {},
   "outputs": [],
   "source": [
    "data = load_data(day=7, split=True)"
   ]
  },
  {
   "cell_type": "code",
   "execution_count": 70,
   "metadata": {},
   "outputs": [],
   "source": [
    "assert find_root(towers2dict(tower=data)) == 'xegshds'"
   ]
  },
  {
   "cell_type": "markdown",
   "metadata": {},
   "source": [
    "Part II\n",
    "-----"
   ]
  },
  {
   "cell_type": "code",
   "execution_count": null,
   "metadata": {},
   "outputs": [],
   "source": []
  },
  {
   "cell_type": "markdown",
   "metadata": {},
   "source": [
    "<br>\n",
    "<br> \n",
    "<br>\n",
    "\n",
    "----"
   ]
  }
 ],
 "metadata": {
  "kernelspec": {
   "display_name": "Python 3",
   "language": "python",
   "name": "python3"
  },
  "language_info": {
   "codemirror_mode": {
    "name": "ipython",
    "version": 3
   },
   "file_extension": ".py",
   "mimetype": "text/x-python",
   "name": "python",
   "nbconvert_exporter": "python",
   "pygments_lexer": "ipython3",
   "version": "3.6.3"
  }
 },
 "nbformat": 4,
 "nbformat_minor": 2
}
