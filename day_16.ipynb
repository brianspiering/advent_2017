{
 "cells": [
  {
   "cell_type": "markdown",
   "metadata": {},
   "source": [
    "Day 16\n",
    "====\n",
    "\n",
    "[Permutation Promenade](http://adventofcode.com/2017/day/16)"
   ]
  },
  {
   "cell_type": "code",
   "execution_count": 33,
   "metadata": {},
   "outputs": [],
   "source": [
    "reset -fs"
   ]
  },
  {
   "cell_type": "code",
   "execution_count": 43,
   "metadata": {},
   "outputs": [],
   "source": [
    "from collections import deque\n",
    "from string import ascii_letters\n",
    "\n",
    "from utilities import *"
   ]
  },
  {
   "cell_type": "markdown",
   "metadata": {},
   "source": [
    "Part I\n",
    "-----"
   ]
  },
  {
   "cell_type": "code",
   "execution_count": 73,
   "metadata": {},
   "outputs": [],
   "source": [
    "def switch(line, i, j):\n",
    "    line[i], line[j] = line[j], line[i]\n",
    "    return line\n",
    "\n",
    "def dance(line, command):\n",
    "    'Dance program DANCE!'\n",
    "    op, location  = command[0], command[1:]\n",
    "\n",
    "    if op == 's':\n",
    "        return line[-int(location):]+line[:-int(location)]\n",
    "    elif op == 'x':\n",
    "        chars = list(line)\n",
    "        chars[int(location[0])], chars[int(location[-1])] = chars[int(location[-1])], chars[int(location[0])]\n",
    "        return cat(chars)\n",
    "    elif op == 'p':\n",
    "        c1,c2 = location[0], location[-1]\n",
    "        i1, i2 = line.find(c1), line.find(c2)\n",
    "        chars = list(line)\n",
    "        chars[i1], chars[i2] = chars[i2], chars[i1]\n",
    "        return cat(chars)   \n",
    "    else:\n",
    "        raise ValueError(\"Not valid input. Must be: {'s', 'x', 'p'}\")"
   ]
  },
  {
   "cell_type": "code",
   "execution_count": 77,
   "metadata": {},
   "outputs": [],
   "source": [
    "assert dance(line='abcde', command='s1') == 'eabcd'\n",
    "assert dance(line='eabcd', command='x3/4') == 'eabdc'\n",
    "assert dance(line='eabdc', command='pe/b') == 'baedc'\n",
    "assert dance(line=ascii_letters[:16], command='s11') == 'fghijklmnopabcde'"
   ]
  },
  {
   "cell_type": "code",
   "execution_count": 78,
   "metadata": {},
   "outputs": [
    {
     "data": {
      "text/plain": [
       "['s11', 'x10/2', 's5', 'x1/3', 'pl/d']"
      ]
     },
     "execution_count": 78,
     "metadata": {},
     "output_type": "execute_result"
    }
   ],
   "source": [
    "data_for_the_day = load_data(day=16).split(',')\n",
    "data_for_the_day[:5]"
   ]
  },
  {
   "cell_type": "code",
   "execution_count": 79,
   "metadata": {},
   "outputs": [
    {
     "name": "stdout",
     "output_type": "stream",
     "text": [
      "kbpgmfiodaljenhc\n"
     ]
    }
   ],
   "source": [
    "line = ascii_letters[:16]\n",
    "\n",
    "for instruction in data_for_the_day:\n",
    "#     print(line)    \n",
    "    line = dance(line=line, command=instruction)\n",
    "\n",
    "print(line)\n",
    "# != 'kbpgmfiodaljenhc'\n",
    "\n",
    "# == 'lbdiomkhgcjanefp'"
   ]
  },
  {
   "cell_type": "markdown",
   "metadata": {},
   "source": [
    "Use this solution to debug mine\n",
    "https://github.com/norvig/pytudes/blob/master/ipynb/Advent%202017.ipynb\n",
    "    "
   ]
  },
  {
   "cell_type": "markdown",
   "metadata": {},
   "source": [
    "<br>\n",
    "<br> \n",
    "<br>\n",
    "\n",
    "----"
   ]
  }
 ],
 "metadata": {
  "kernelspec": {
   "display_name": "Python 3",
   "language": "python",
   "name": "python3"
  },
  "language_info": {
   "codemirror_mode": {
    "name": "ipython",
    "version": 3
   },
   "file_extension": ".py",
   "mimetype": "text/x-python",
   "name": "python",
   "nbconvert_exporter": "python",
   "pygments_lexer": "ipython3",
   "version": "3.6.0"
  }
 },
 "nbformat": 4,
 "nbformat_minor": 2
}
