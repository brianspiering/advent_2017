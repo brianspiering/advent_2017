{
 "cells": [
  {
   "cell_type": "markdown",
   "metadata": {},
   "source": [
    "Day 2\n",
    "====\n",
    "\n",
    "[Corruption Checksum](http://adventofcode.com/2017/day/2)"
   ]
  },
  {
   "cell_type": "markdown",
   "metadata": {},
   "source": [
    "Part 1\n",
    "-----"
   ]
  },
  {
   "cell_type": "code",
   "execution_count": 3,
   "metadata": {},
   "outputs": [],
   "source": [
    "reset -fs"
   ]
  },
  {
   "cell_type": "code",
   "execution_count": 4,
   "metadata": {},
   "outputs": [],
   "source": [
    "from utilities import load_data"
   ]
  },
  {
   "cell_type": "code",
   "execution_count": 5,
   "metadata": {},
   "outputs": [],
   "source": [
    "def check_sum(matrix):\n",
    "    \"\"\"For each row, determine the difference between the largest value and the smallest value\n",
    "    The checksum is the sum of all of these differences.\"\"\"\n",
    "    return sum(max(row) - min(row) for row in matrix)"
   ]
  },
  {
   "cell_type": "code",
   "execution_count": 6,
   "metadata": {},
   "outputs": [],
   "source": [
    "input_sample = [[5, 1, 9, 5],\n",
    "                [7, 5, 3],\n",
    "                [2, 4, 6, 8]]\n",
    "\n",
    "assert check_sum(input_sample) == 18"
   ]
  },
  {
   "cell_type": "code",
   "execution_count": 7,
   "metadata": {},
   "outputs": [],
   "source": [
    "# Data loading and munging\n",
    "data = load_data(day=2, split=True)\n",
    "\n",
    "# TODO: This should be a list comp. I just couldn't get to work that way    \n",
    "matrix = []\n",
    "for row in data:\n",
    "    row = [int(item) for item in row.split(\" \") if item]\n",
    "    matrix.append(row)"
   ]
  },
  {
   "cell_type": "code",
   "execution_count": 8,
   "metadata": {},
   "outputs": [],
   "source": [
    "assert check_sum(matrix) == 21845"
   ]
  },
  {
   "cell_type": "markdown",
   "metadata": {},
   "source": [
    "Part II\n",
    "-----"
   ]
  },
  {
   "cell_type": "code",
   "execution_count": 10,
   "metadata": {},
   "outputs": [],
   "source": [
    "from itertools import permutations"
   ]
  },
  {
   "cell_type": "code",
   "execution_count": 11,
   "metadata": {},
   "outputs": [],
   "source": [
    "def is_even_divisble(pair):\n",
    "    \" Check if result of the division operation is a whole number\"\n",
    "    return pair[0] % pair[1] == 0 # If the modulo is zero, then result is whole\n",
    "\n",
    "def check_sum_divisble(matrix):\n",
    "    \"\"\"For each row, determine the difference between the largest value and the smallest value\n",
    "    The checksum is the sum of all of these differences.\"\"\"\n",
    "    \n",
    "    # TODO: Clean to remove list transforms\n",
    "    matrix_of_even_divisble = list(list(filter(is_even_divisble, permutations(row ,2))) for row in matrix)\n",
    "    return sum(pair[0][0]/pair[0][1] for pair in matrix_of_even_divisble)"
   ]
  },
  {
   "cell_type": "code",
   "execution_count": 12,
   "metadata": {},
   "outputs": [],
   "source": [
    "input_sample = [[5, 9, 2, 8],\n",
    "                [9, 4, 7, 3],\n",
    "                [3, 8, 6, 5]]\n",
    "\n",
    "assert check_sum_divisble(input_sample) == 9"
   ]
  },
  {
   "cell_type": "code",
   "execution_count": 13,
   "metadata": {},
   "outputs": [],
   "source": [
    "assert check_sum_divisble(matrix) == 191"
   ]
  },
  {
   "cell_type": "markdown",
   "metadata": {},
   "source": [
    "<br>\n",
    "<br> \n",
    "<br>\n",
    "\n",
    "----"
   ]
  }
 ],
 "metadata": {
  "kernelspec": {
   "display_name": "Python 3",
   "language": "python",
   "name": "python3"
  },
  "language_info": {
   "codemirror_mode": {
    "name": "ipython",
    "version": 3
   },
   "file_extension": ".py",
   "mimetype": "text/x-python",
   "name": "python",
   "nbconvert_exporter": "python",
   "pygments_lexer": "ipython3",
   "version": "3.6.3"
  }
 },
 "nbformat": 4,
 "nbformat_minor": 2
}
