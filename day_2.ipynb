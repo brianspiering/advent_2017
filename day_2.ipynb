{
 "cells": [
  {
   "cell_type": "markdown",
   "metadata": {},
   "source": [
    "Day 2\n",
    "====\n",
    "\n",
    "[Corruption Checksum](http://adventofcode.com/2017/day/2)"
   ]
  },
  {
   "cell_type": "markdown",
   "metadata": {},
   "source": [
    "Part 1\n",
    "-----"
   ]
  },
  {
   "cell_type": "code",
   "execution_count": 76,
   "metadata": {},
   "outputs": [],
   "source": [
    "def check_sum(matrix):\n",
    "    \"\"\"For each row, determine the difference between the largest value and the smallest value\n",
    "    The checksum is the sum of all of these differences.\"\"\"\n",
    "    return sum(max(row) - min(row) for row in matrix)"
   ]
  },
  {
   "cell_type": "code",
   "execution_count": 77,
   "metadata": {},
   "outputs": [],
   "source": [
    "input_sample = [[5, 1, 9, 5],\n",
    "                [7, 5, 3],\n",
    "                [2, 4, 6, 8]]\n",
    "\n",
    "assert check_sum(input_sample) == 18"
   ]
  },
  {
   "cell_type": "code",
   "execution_count": 69,
   "metadata": {},
   "outputs": [],
   "source": [
    "with open('data/day_2.txt') as f:\n",
    "    input_current = f.read().splitlines()\n",
    "\n",
    "# TODO: This should be a list comp. I just couldn't get to work that way    \n",
    "matrix = []\n",
    "for row in input_current:\n",
    "    row = [int(item) for item in row.split(\" \") if item]\n",
    "    matrix.append(row)"
   ]
  },
  {
   "cell_type": "code",
   "execution_count": 78,
   "metadata": {},
   "outputs": [
    {
     "data": {
      "text/plain": [
       "21845"
      ]
     },
     "execution_count": 78,
     "metadata": {},
     "output_type": "execute_result"
    }
   ],
   "source": [
    "check_sum(matrix)"
   ]
  },
  {
   "cell_type": "markdown",
   "metadata": {},
   "source": [
    "<br>\n",
    "<br> \n",
    "<br>\n",
    "\n",
    "----"
   ]
  }
 ],
 "metadata": {
  "kernelspec": {
   "display_name": "Python 3",
   "language": "python",
   "name": "python3"
  },
  "language_info": {
   "codemirror_mode": {
    "name": "ipython",
    "version": 3
   },
   "file_extension": ".py",
   "mimetype": "text/x-python",
   "name": "python",
   "nbconvert_exporter": "python",
   "pygments_lexer": "ipython3",
   "version": "3.6.0"
  }
 },
 "nbformat": 4,
 "nbformat_minor": 2
}
