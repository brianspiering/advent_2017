{
 "cells": [
  {
   "cell_type": "markdown",
   "metadata": {},
   "source": [
    "Day 4\n",
    "====\n",
    "\n",
    "[High-Entropy Passphrases](http://adventofcode.com/2017/day/4)"
   ]
  },
  {
   "cell_type": "markdown",
   "metadata": {},
   "source": [
    "Part 1\n",
    "----"
   ]
  },
  {
   "cell_type": "code",
   "execution_count": 1,
   "metadata": {},
   "outputs": [],
   "source": [
    "from collections import Counter\n",
    "\n",
    "from utilities import *"
   ]
  },
  {
   "cell_type": "code",
   "execution_count": 12,
   "metadata": {},
   "outputs": [],
   "source": [
    "def is_valid(s):\n",
    "    \"Check if duplicate word in sequence\"\n",
    "    c = Counter(s.split(' '))\n",
    "    return sum(c.values()) == len(c.keys())\n",
    "\n",
    "assert is_valid(\"aa bb cc dd ee\")\n",
    "assert not is_valid(\"aa bb cc dd aa\")\n",
    "assert is_valid(\"aa bb cc dd aaa\")"
   ]
  },
  {
   "cell_type": "code",
   "execution_count": 13,
   "metadata": {},
   "outputs": [],
   "source": [
    "data = load_data(day=4, split=True)"
   ]
  },
  {
   "cell_type": "code",
   "execution_count": 14,
   "metadata": {},
   "outputs": [],
   "source": [
    "# TODO: Linear time for each password check. \n",
    "# It could be in sublinear time if refactored to use a while loop."
   ]
  },
  {
   "cell_type": "code",
   "execution_count": 15,
   "metadata": {},
   "outputs": [],
   "source": [
    "assert sum(is_valid(row) for row in data) == 455"
   ]
  },
  {
   "cell_type": "markdown",
   "metadata": {},
   "source": [
    "Part 2\n",
    "----"
   ]
  },
  {
   "cell_type": "code",
   "execution_count": 20,
   "metadata": {},
   "outputs": [],
   "source": [
    "def is_valid_anagram(s):\n",
    "    \"Check if duplicate anagram in sequence\"\n",
    "    c = Counter(map(cat, map(sorted, s.split(' '))))\n",
    "    return sum(c.values()) == len(c.keys())"
   ]
  },
  {
   "cell_type": "code",
   "execution_count": 21,
   "metadata": {},
   "outputs": [],
   "source": [
    "assert is_valid_anagram('abcde fghij')\n",
    "assert not is_valid_anagram('abcde xyz ecdab')\n",
    "assert is_valid_anagram('a ab abc abd abf abj')\n",
    "assert is_valid_anagram('iiii oiii ooii oooi oooo')\n",
    "assert not is_valid_anagram('oiii ioii iioi iiio')"
   ]
  },
  {
   "cell_type": "code",
   "execution_count": 22,
   "metadata": {},
   "outputs": [],
   "source": [
    "assert sum(is_valid_anagram(row) for row in data) == 186"
   ]
  },
  {
   "cell_type": "markdown",
   "metadata": {},
   "source": [
    "<br>\n",
    "<br> \n",
    "<br>\n",
    "\n",
    "----"
   ]
  }
 ],
 "metadata": {
  "kernelspec": {
   "display_name": "Python 3",
   "language": "python",
   "name": "python3"
  },
  "language_info": {
   "codemirror_mode": {
    "name": "ipython",
    "version": 3
   },
   "file_extension": ".py",
   "mimetype": "text/x-python",
   "name": "python",
   "nbconvert_exporter": "python",
   "pygments_lexer": "ipython3",
   "version": "3.6.0"
  }
 },
 "nbformat": 4,
 "nbformat_minor": 2
}
