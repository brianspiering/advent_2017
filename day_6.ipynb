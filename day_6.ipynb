{
 "cells": [
  {
   "cell_type": "markdown",
   "metadata": {},
   "source": [
    "Day 6\n",
    "====\n",
    "\n",
    "[Memory Reallocation](http://adventofcode.com/2017/day/6)"
   ]
  },
  {
   "cell_type": "code",
   "execution_count": 21,
   "metadata": {},
   "outputs": [],
   "source": [
    "reset -fs"
   ]
  },
  {
   "cell_type": "code",
   "execution_count": 22,
   "metadata": {},
   "outputs": [],
   "source": [
    "from utilities import load_data"
   ]
  },
  {
   "cell_type": "markdown",
   "metadata": {},
   "source": [
    "Part I\n",
    "----"
   ]
  },
  {
   "cell_type": "code",
   "execution_count": 23,
   "metadata": {},
   "outputs": [],
   "source": [
    "def redistribute(item):\n",
    "    max_value = max(item)\n",
    "    index = item.index(max_value)\n",
    "    item[index] = 0\n",
    "\n",
    "    index += 1\n",
    "    while max_value:\n",
    "        try:\n",
    "            item[index] += 1\n",
    "            max_value -= 1\n",
    "            index += 1\n",
    "        except IndexError:\n",
    "            index = 0\n",
    "    return item\n",
    "\n",
    "def count_unique_redistrubtions(item):\n",
    "\n",
    "    previous = []\n",
    "    count = 0\n",
    "\n",
    "    while (previous.count(item) < 2):\n",
    "        item = redistribute(item)\n",
    "\n",
    "        # Update for next round\n",
    "        count += 1\n",
    "        previous.append(item[:]) # Append an independent copy of list!\n",
    "\n",
    "    return count\n",
    "\n",
    "assert count_unique_redistrubtions(item=[0, 2, 7, 0]) == 5\n",
    "    \n",
    "# TODO: Refactor to make faster. Currently, there are too many loops. \n",
    "#       I couldn't come up with a function way (‽)"
   ]
  },
  {
   "cell_type": "code",
   "execution_count": 24,
   "metadata": {},
   "outputs": [],
   "source": [
    "data = load_data(day=6)\n",
    "data = list(map(int, data.split()))"
   ]
  },
  {
   "cell_type": "code",
   "execution_count": 25,
   "metadata": {},
   "outputs": [],
   "source": [
    "assert count_unique_redistrubtions(item=data) == 4074"
   ]
  },
  {
   "cell_type": "markdown",
   "metadata": {},
   "source": [
    "Part II\n",
    "-----"
   ]
  },
  {
   "cell_type": "code",
   "execution_count": 26,
   "metadata": {},
   "outputs": [],
   "source": [
    "def cycles_between_unique_redistrubtions(item):\n",
    "\n",
    "    previous = []\n",
    "    count = 0\n",
    "\n",
    "    while (previous.count(item) < 2):\n",
    "        item = redistribute(item)\n",
    "\n",
    "        # Update for next round\n",
    "        count += 1\n",
    "        previous.append(item[:]) # Append an independent copy of list!\n",
    "    \n",
    "    n_cycles = count - 1 - previous.index(item) # Subtract 1 for book-keeping, look for first occurance of pattern\n",
    "    return n_cycles\n",
    "\n",
    "assert cycles_between_unique_redistrubtions(item=[0, 2, 7, 0]) == 4"
   ]
  },
  {
   "cell_type": "code",
   "execution_count": 27,
   "metadata": {},
   "outputs": [],
   "source": [
    "assert cycles_between_unique_redistrubtions(item=data) == 2793"
   ]
  },
  {
   "cell_type": "markdown",
   "metadata": {},
   "source": [
    "<br>\n",
    "<br> \n",
    "<br>\n",
    "\n",
    "----"
   ]
  }
 ],
 "metadata": {
  "kernelspec": {
   "display_name": "Python 3",
   "language": "python",
   "name": "python3"
  },
  "language_info": {
   "codemirror_mode": {
    "name": "ipython",
    "version": 3
   },
   "file_extension": ".py",
   "mimetype": "text/x-python",
   "name": "python",
   "nbconvert_exporter": "python",
   "pygments_lexer": "ipython3",
   "version": "3.6.0"
  }
 },
 "nbformat": 4,
 "nbformat_minor": 2
}
