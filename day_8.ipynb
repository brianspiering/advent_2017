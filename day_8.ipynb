{
 "cells": [
  {
   "cell_type": "markdown",
   "metadata": {},
   "source": [
    "Day 8\n",
    "====\n",
    "\n",
    "[I Heard You Like Registers](http://adventofcode.com/2017/day/8)"
   ]
  },
  {
   "cell_type": "code",
   "execution_count": 33,
   "metadata": {},
   "outputs": [],
   "source": [
    "reset -fs"
   ]
  },
  {
   "cell_type": "code",
   "execution_count": 34,
   "metadata": {},
   "outputs": [],
   "source": [
    "from collections import defaultdict\n",
    "import operator as op\n",
    "\n",
    "from utilities import *"
   ]
  },
  {
   "cell_type": "markdown",
   "metadata": {},
   "source": [
    "Part I\n",
    "-----"
   ]
  },
  {
   "cell_type": "code",
   "execution_count": 35,
   "metadata": {},
   "outputs": [],
   "source": [
    "def max_register(data):\n",
    "    operations = {'inc': op.add,\n",
    "                  'dec': op.sub,}\n",
    "    registers = defaultdict(lambda: 0)\n",
    "    register_max = 0\n",
    "\n",
    "    for row in data:\n",
    "        register_current, action, amount, _, register_condition, comparison, value = row.split(' ')\n",
    "        if eval(f\"{registers[register_condition]}\"+comparison+value): # Evaluate text statement\n",
    "                registers[register_current] = operations[action](registers[register_current], int(amount)) # Update value\n",
    "    return max(registers.values())"
   ]
  },
  {
   "cell_type": "code",
   "execution_count": 36,
   "metadata": {},
   "outputs": [],
   "source": [
    "data_sample = ['b inc 5 if a > 1',\n",
    "'a inc 1 if b < 5',\n",
    "'c dec -10 if a >= 1',\n",
    "'c inc -20 if c == 10']"
   ]
  },
  {
   "cell_type": "code",
   "execution_count": 37,
   "metadata": {},
   "outputs": [],
   "source": [
    "assert max_register(data=data_sample) == 1"
   ]
  },
  {
   "cell_type": "code",
   "execution_count": 38,
   "metadata": {},
   "outputs": [],
   "source": [
    "data_complete = load_data(day=8, split=True)\n",
    "\n",
    "assert max_register(data=data_complete) == 6343"
   ]
  },
  {
   "cell_type": "markdown",
   "metadata": {},
   "source": [
    "Part II\n",
    "-----"
   ]
  },
  {
   "cell_type": "code",
   "execution_count": 44,
   "metadata": {},
   "outputs": [],
   "source": [
    "def max__total_register(data):\n",
    "    operations = {'inc': op.add,\n",
    "                  'dec': op.sub,}\n",
    "    registers = defaultdict(lambda: 0)\n",
    "    register_max = 0\n",
    "\n",
    "    for row in data:\n",
    "        register_current, action, amount, _, register_condition, comparison, value = row.split(' ')\n",
    "        if eval(f\"{registers[register_condition]}\"+comparison+value): # Evaluate text statement\n",
    "                registers[register_current] = operations[action](registers[register_current], int(amount)) # Update value\n",
    "        if max(registers.values()) > register_max:\n",
    "            register_max = max(registers.values())\n",
    "    return register_max"
   ]
  },
  {
   "cell_type": "code",
   "execution_count": 47,
   "metadata": {},
   "outputs": [],
   "source": [
    "assert max__total_register(data=data_sample) == 10"
   ]
  },
  {
   "cell_type": "code",
   "execution_count": 48,
   "metadata": {},
   "outputs": [],
   "source": [
    "assert max__total_register(data=data_complete) == 7184"
   ]
  },
  {
   "cell_type": "markdown",
   "metadata": {},
   "source": [
    "<br>\n",
    "<br> \n",
    "<br>\n",
    "\n",
    "----"
   ]
  }
 ],
 "metadata": {
  "kernelspec": {
   "display_name": "Python 3",
   "language": "python",
   "name": "python3"
  },
  "language_info": {
   "codemirror_mode": {
    "name": "ipython",
    "version": 3
   },
   "file_extension": ".py",
   "mimetype": "text/x-python",
   "name": "python",
   "nbconvert_exporter": "python",
   "pygments_lexer": "ipython3",
   "version": "3.6.3"
  }
 },
 "nbformat": 4,
 "nbformat_minor": 2
}
